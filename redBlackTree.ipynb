{
 "cells": [
  {
   "attachments": {},
   "cell_type": "markdown",
   "metadata": {},
   "source": [
    "# Balance Tree Python in Jupyter Notebook\n",
    "## How it works\n",
    "The Program will run and insert the dummy data to build a Tree Node.\n",
    "The memory will be clean first and the first input wil be the root.\n",
    "Next input will be inserted and balance recursively.\n",
    "\n",
    "## Pseudocode\n",
    "- Declare Main Tree Node\n",
    "- Create insert function works as follows\n",
    "  -  Check the root, if empty then the first input will be the root\n",
    "  -  If not empty, then the input will be inserted \n",
    "     -  to left if less than the root, \n",
    "     -  to right if bigger than the root\n",
    "- Create a height function to check  for the Tree Nodes height and status (balance or not balance)\n",
    "- Create a search function to search for values\n",
    "- Printout the values\n",
    "\n",
    "## Code as Below:-"
   ]
  },
  {
   "cell_type": "code",
   "execution_count": null,
   "metadata": {},
   "outputs": [],
   "source": [
    "# Create Tree's Node Class\n",
    "class RBNode:\n",
    "    def __init__(self, val):\n",
    "        self.red = False\n",
    "        self.parent = None\n",
    "        self.val = val\n",
    "        self.left = None\n",
    "        self.right = None"
   ]
  },
  {
   "cell_type": "code",
   "execution_count": null,
   "metadata": {},
   "outputs": [],
   "source": [
    "# Create Tree's Class\n",
    "class RBTree:\n",
    "    def __init__(self):\n",
    "        self.nil = RBNode(0)\n",
    "        self.nil.red = False\n",
    "        self.nil.left = None\n",
    "        self.nil.right = None\n",
    "        self.root = self.nil"
   ]
  },
  {
   "cell_type": "code",
   "execution_count": null,
   "metadata": {},
   "outputs": [],
   "source": [
    "# Create Insert method to insert input to the Tree\n",
    "def insert(self, val):\n",
    "    # Ordinary Binary Search Insertion\n",
    "    new_node = RBNode(val)\n",
    "    new_node.parent = None\n",
    "    new_node.left = self.nil\n",
    "    new_node.right = self.nil\n",
    "    new_node.red = True  # new node must be red\n",
    "\n",
    "# Set the starting parent as None then check for current Node value\n",
    "# If the first node is empty, then the current input will be inserted as root\n",
    "    parent = None\n",
    "    current = self.root\n",
    "    while current != self.nil:\n",
    "        parent = current\n",
    "        if new_node.val < current.val:\n",
    "            current = current.left\n",
    "        elif new_node.val > current.val:\n",
    "            current = current.right\n",
    "        else:\n",
    "            return\n",
    "\n",
    "# Create new Node, insert the value and mark the node as parent node/root node\n",
    "    # Set the parent and insert the new node\n",
    "    new_node.parent = parent\n",
    "    if parent == None:\n",
    "        self.root = new_node\n",
    "    elif new_node.val < parent.val:\n",
    "        parent.left = new_node\n",
    "    else:\n",
    "        parent.right = new_node\n",
    "\n",
    "    # Fix the tree\n",
    "    self.fix_insert(new_node)"
   ]
  },
  {
   "cell_type": "code",
   "execution_count": null,
   "metadata": {},
   "outputs": [],
   "source": [
    "# rotate left at node x\n",
    "def rotate_left(self, x):\n",
    "    y = x.right\n",
    "    x.right = y.left\n",
    "    if y.left != self.nil:\n",
    "        y.left.parent = x\n",
    "\n",
    "    y.parent = x.parent\n",
    "    if x.parent == None:\n",
    "        self.root = y\n",
    "    elif x == x.parent.left:\n",
    "        x.parent.left = y\n",
    "    else:\n",
    "        x.parent.right = y\n",
    "    y.left = x\n",
    "    x.parent = y"
   ]
  },
  {
   "cell_type": "code",
   "execution_count": null,
   "metadata": {},
   "outputs": [],
   "source": [
    "# rotate right at node x\n",
    "def rotate_right(self, x):\n",
    "    y = x.left\n",
    "    x.left = y.right\n",
    "    if y.right != self.nil:\n",
    "        y.right.parent = x\n",
    "\n",
    "    y.parent = x.parent\n",
    "    if x.parent == None:\n",
    "        self.root = y\n",
    "    elif x == x.parent.right:\n",
    "        x.parent.right = y\n",
    "    else:\n",
    "        x.parent.left = y\n",
    "    y.right = x\n",
    "    x.parent = y"
   ]
  },
  {
   "cell_type": "code",
   "execution_count": null,
   "metadata": {},
   "outputs": [],
   "source": [
    "# Printout the Tree\n"
   ]
  }
 ],
 "metadata": {
  "kernelspec": {
   "display_name": "Python 3",
   "language": "python",
   "name": "python3"
  },
  "language_info": {
   "name": "python",
   "version": "3.10.0 (v3.10.0:b494f5935c, Oct  4 2021, 14:59:20) [Clang 12.0.5 (clang-1205.0.22.11)]"
  },
  "orig_nbformat": 4,
  "vscode": {
   "interpreter": {
    "hash": "aee8b7b246df8f9039afb4144a1f6fd8d2ca17a180786b69acc140d282b71a49"
   }
  }
 },
 "nbformat": 4,
 "nbformat_minor": 2
}
