{
 "cells": [
  {
   "attachments": {},
   "cell_type": "markdown",
   "metadata": {},
   "source": [
    "# Balance Tree Python in Jupyter Notebook"
   ]
  },
  {
   "cell_type": "code",
   "execution_count": null,
   "metadata": {},
   "outputs": [],
   "source": [
    "# Binary Tree Balance\n",
    "class TreeNode:\n",
    "    def __init__(self, val=0, left = None, right = None):\n",
    "        self.val = val\n",
    "        self.left = left\n",
    "        self.right = right"
   ]
  },
  {
   "cell_type": "code",
   "execution_count": null,
   "metadata": {},
   "outputs": [],
   "source": [
    "from typing import Optional\n",
    "# from pyparsing import Optional\n",
    "\n",
    "class balanceTree:\n",
    "    # This will primarily check for the Tree status balance or not, if NOT balance it will run the code below\n",
    "    def balanceTreeCheck(self, root: Optional[TreeNode]) -> bool:\n",
    "        def dfs(root): # this will return the status and the height of the tree\n",
    "            if not root: return [True, 0] # If the tree node is balance then it will return True\n",
    "\n",
    "            left, right = dfs(root.left), dfs(root.right) # calling dfs function recursively to check for their balance status\n",
    "            isRootBalance = abs(left[1] - right[1]) <= 1 # check the value of left node and right node\n",
    "            isNodesBalance = left[0] and right[0] # check the last node of left and right\n",
    "            treeHeight = 1 + max(left[1], right[1])\n",
    "            \n",
    "            isAllBalance = isNodesBalance and isRootBalance\n",
    "            \n",
    "            return [isAllBalance, treeHeight]"
   ]
  }
 ],
 "metadata": {
  "kernelspec": {
   "display_name": "Python 3",
   "language": "python",
   "name": "python3"
  },
  "language_info": {
   "name": "python",
   "version": "3.10.5 (tags/v3.10.5:f377153, Jun  6 2022, 16:14:13) [MSC v.1929 64 bit (AMD64)]"
  },
  "orig_nbformat": 4,
  "vscode": {
   "interpreter": {
    "hash": "be243b7d8d687ff0df8d220859a487acb540995961051c6d5747236f185aabe6"
   }
  }
 },
 "nbformat": 4,
 "nbformat_minor": 2
}
