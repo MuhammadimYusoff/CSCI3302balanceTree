{
 "cells": [
  {
   "attachments": {},
   "cell_type": "markdown",
   "metadata": {},
   "source": [
    "# Balance Tree Python in Jupyter Notebook\n",
    "## How it works\n",
    "\n",
    "## Pseudocode\n",
    "\n",
    "\n",
    "## Code as Below:-"
   ]
  },
  {
   "cell_type": "code",
   "execution_count": 2,
   "metadata": {},
   "outputs": [],
   "source": [
    "# Binary Tree Balance\n",
    "class TreeNode:\n",
    "    def __init__(self, val=0, left = None, right = None):\n",
    "        self.val = val\n",
    "        self.left = left\n",
    "        self.right = right"
   ]
  },
  {
   "cell_type": "code",
   "execution_count": 3,
   "metadata": {},
   "outputs": [],
   "source": [
    "from typing import Optional\n",
    "# from pyparsing import Optional\n",
    "\n",
    "# Dummy Data\n",
    "dumpData = [2, 13, 7, 16, 19, 9, 22, 10, 14, 17]\n",
    "\n",
    "# Check if the Tree is Balance\n",
    "class balanceTree:\n",
    "    # This will primarily check for the Tree status balance or not, if NOT balance it will run the code below\n",
    "    def balanceTreeCheck(self, root: Optional[TreeNode]) -> bool:\n",
    "        def dfs(root): # this will return the status and the height of the tree\n",
    "            if not root: return [True, 0] # If the tree node is balance then it will return True\n",
    "\n",
    "            left, right = dfs(root.left), dfs(root.right) # calling dfs function recursively to check for their balance status\n",
    "            isRootBalance = abs(left[1] - right[1]) <= 1 # check the value of left node and right node\n",
    "            isNodesBalance = left[0] and right[0] # check the last node of left and right\n",
    "            treeHeight = 1 + max(left[1], right[1])\n",
    "            \n",
    "            isAllBalance = isNodesBalance and isRootBalance\n",
    "            \n",
    "            return [isAllBalance, treeHeight]\n",
    "\n",
    "# Insert in the Tree\n",
    "class insertToTree:\n",
    "    # Insert number to tree\n",
    "\n",
    "\n",
    "# Search in the Tree"
   ]
  }
 ],
 "metadata": {
  "kernelspec": {
   "display_name": "Python 3",
   "language": "python",
   "name": "python3"
  },
  "language_info": {
   "codemirror_mode": {
    "name": "ipython",
    "version": 3
   },
   "file_extension": ".py",
   "mimetype": "text/x-python",
   "name": "python",
   "nbconvert_exporter": "python",
   "pygments_lexer": "ipython3",
   "version": "3.11.1 (tags/v3.11.1:a7a450f, Dec  6 2022, 19:58:39) [MSC v.1934 64 bit (AMD64)]"
  },
  "orig_nbformat": 4,
  "vscode": {
   "interpreter": {
    "hash": "5238573367df39f7286bb46f9ff5f08f63a01a80960060ce41e3c79b190280fa"
   }
  }
 },
 "nbformat": 4,
 "nbformat_minor": 2
}
