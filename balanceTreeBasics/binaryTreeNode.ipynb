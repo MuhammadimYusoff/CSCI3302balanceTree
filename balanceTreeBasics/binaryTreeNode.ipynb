{
 "cells": [
  {
   "attachments": {},
   "cell_type": "markdown",
   "metadata": {},
   "source": [
    "# Balance Tree Python in Jupyter Notebook\n",
    "## How it works\n",
    "\n",
    "The Program will run and insert the dummy data to build a Tree Node.\n",
    "The memory will be clean first and the first input wil be the root.\n",
    "Next input will be inserted and balance recursively.\n",
    "\n",
    "## Pseudocode\n",
    "- Declare Main Tree Node\n",
    "- Create insert function works as follows\n",
    "  -  Check the root, if empty then the first input will be the root\n",
    "  -  If not empty, then the input will be inserted \n",
    "     -  to left if less than the root, \n",
    "     -  to right if bigger than the root\n",
    "- Create a height function to check  for the Tree Nodes height and status (balance or not balance)\n",
    "- Create a search function to search for values\n",
    "- Printout the values\n",
    "\n",
    "## Code as Below:-"
   ]
  },
  {
   "cell_type": "code",
   "execution_count": null,
   "metadata": {},
   "outputs": [],
   "source": [
    "# MAIN DRIVER\n",
    "\n",
    "# Dummy Data\n",
    "dumpData = [2, 13, 7, 16, 19, 9, 22, 10, 14, 17]\n",
    "\n",
    "# Declare Node\n",
    "class TreeNode:\n",
    "    # Clear Tree as starting\n",
    "    def __init__(self, data):\n",
    "        self.data = data \n",
    "        self.left = None\n",
    "        self.right = None"
   ]
  },
  {
   "cell_type": "code",
   "execution_count": null,
   "metadata": {},
   "outputs": [],
   "source": [
    "# Insert Data Function\n",
    "def insert(root, input):\n",
    "    # If Tree is Empty, create new Node and point as root\n",
    "    if root is None:\n",
    "        root = TreeNode(input)\n",
    "        return root # Point first input as root\n",
    "\n",
    "    # If Tree is not empty, we insert the value to the Tree\n",
    "    # If input is more than root, insert it to left\n",
    "    if input < root.data:\n",
    "        root.left = insert(root.left, input)\n",
    "    else:\n",
    "    # If input is more than root, insert it to right\n",
    "        root.right = insert(root.right, input)\n",
    "    return root"
   ]
  },
  {
   "cell_type": "code",
   "execution_count": null,
   "metadata": {},
   "outputs": [],
   "source": [
    "# Check Tree height\n",
    "def height(root):\n",
    "    # If root is None, return 0\n",
    "    if root == None:\n",
    "        return 0\n",
    "    # Find height of left Node\n",
    "    leftHeight = height(root.left)\n",
    "    # Find height of right Node\n",
    "    rightHeight = height(root.right)\n",
    "\n",
    "    # Check height of both subtree, add 1 (root) and sum up total value\n",
    "    if leftHeight > rightHeight:\n",
    "        return leftHeight + 1\n",
    "    else:\n",
    "        return rightHeight + 1"
   ]
  },
  {
   "cell_type": "code",
   "execution_count": null,
   "metadata": {},
   "outputs": [],
   "source": [
    "# Check Tree is Balance\n",
    "def checkTreeStatus(root):\n",
    "    # if Tree is Empty, print it's empty\n",
    "    if root == None:\n",
    "        print(\"Tree is Empty\")\n",
    "    # Check height of Left Node and Right Node\n",
    "    leftHeight = height(root.left)\n",
    "    rightHeight = height(root.right)\n",
    "    # If Left Node and Right Node have height difference, print the tree is imbalance\n",
    "    if(abs(leftHeight - rightHeight) > 1):\n",
    "        print(\"Tree is Imbalance\")\n",
    "    \n",
    "    # Check Left Node is Balance or not\n",
    "    leftCheck = checkTreeStatus(root.left)\n",
    "    # Check Right node is Balance or not\n",
    "    rightCheck = checkTreeStatus(root.right)\n",
    "\n",
    "    # If both subtree is balance, print it's status\n",
    "    if leftCheck == True and rightCheck == True:\n",
    "        print(\"The Tree is Balance\")"
   ]
  },
  {
   "cell_type": "code",
   "execution_count": null,
   "metadata": {},
   "outputs": [],
   "source": [
    "# Search Data in Tree\n",
    "def searchTree(root, data):\n",
    "    # Check for the Input and display feedback\n",
    "    if root is None or root.val == data:\n",
    "        print(\"You value is: \" + str(root))\n",
    "    \n",
    "    # If data is NOT root or Greater\n",
    "    if root.val < data:\n",
    "        print(\"Your value is: \" + str(searchTree(root.right, data)))\n",
    "    \n",
    "    # If data is NOT root or Smaller\n",
    "    print(\"Your value is: \" + str(searchTree(root.left, data)))\n"
   ]
  },
  {
   "cell_type": "code",
   "execution_count": null,
   "metadata": {},
   "outputs": [],
   "source": [
    "# Print Height of the Tree\n",
    "print(\"Display Height of Binary Tree: \")\n",
    "print(height(root))\n",
    "\n",
    "# Print Status of the Tree\n",
    "print(\"\\n\\nThe Tree Status is: \\n\")\n",
    "print(checkTreeStatus(root))\n",
    "\n",
    "# Try Search the data\n",
    "searchTree(root, 19)"
   ]
  }
 ],
 "metadata": {
  "kernelspec": {
   "display_name": "Python 3",
   "language": "python",
   "name": "python3"
  },
  "language_info": {
   "codemirror_mode": {
    "name": "ipython",
    "version": 3
   },
   "file_extension": ".py",
   "mimetype": "text/x-python",
   "name": "python",
   "nbconvert_exporter": "python",
   "pygments_lexer": "ipython3",
   "version": "3.10.0 (v3.10.0:b494f5935c, Oct  4 2021, 14:59:20) [Clang 12.0.5 (clang-1205.0.22.11)]"
  },
  "orig_nbformat": 4,
  "vscode": {
   "interpreter": {
    "hash": "aee8b7b246df8f9039afb4144a1f6fd8d2ca17a180786b69acc140d282b71a49"
   }
  }
 },
 "nbformat": 4,
 "nbformat_minor": 2
}
